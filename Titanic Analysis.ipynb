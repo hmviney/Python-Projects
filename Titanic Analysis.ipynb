{
 "cells": [
  {
   "cell_type": "markdown",
   "metadata": {},
   "source": [
    "# Analysis of Data from the Titanic"
   ]
  },
  {
   "cell_type": "markdown",
   "metadata": {},
   "source": [
    "## Overview"
   ]
  },
  {
   "cell_type": "markdown",
   "metadata": {},
   "source": [
    "In this analysis I'll analyse data on passengers from the Titanic.<br>\n",
    "I'll start by importing and cleaning the data, before going on to Exploratory Data Analysis, where I'll use visualisations, statistics and hypothesis tests to derive insights from the data.<br>\n",
    "In particular I'm interested in the impact of different demographic factors on survival rate."
   ]
  },
  {
   "cell_type": "markdown",
   "metadata": {},
   "source": [
    "## Importing and cleaning the data"
   ]
  },
  {
   "cell_type": "code",
   "execution_count": 199,
   "metadata": {},
   "outputs": [
    {
     "data": {
      "text/html": [
       "<div>\n",
       "<style scoped>\n",
       "    .dataframe tbody tr th:only-of-type {\n",
       "        vertical-align: middle;\n",
       "    }\n",
       "\n",
       "    .dataframe tbody tr th {\n",
       "        vertical-align: top;\n",
       "    }\n",
       "\n",
       "    .dataframe thead th {\n",
       "        text-align: right;\n",
       "    }\n",
       "</style>\n",
       "<table border=\"1\" class=\"dataframe\">\n",
       "  <thead>\n",
       "    <tr style=\"text-align: right;\">\n",
       "      <th></th>\n",
       "      <th>Survived</th>\n",
       "      <th>Pclass</th>\n",
       "      <th>Sex</th>\n",
       "      <th>Age</th>\n",
       "      <th>SibSp</th>\n",
       "      <th>Parch</th>\n",
       "      <th>Ticket</th>\n",
       "      <th>Fare</th>\n",
       "      <th>Cabin</th>\n",
       "      <th>Embarked</th>\n",
       "    </tr>\n",
       "    <tr>\n",
       "      <th>PassengerId</th>\n",
       "      <th></th>\n",
       "      <th></th>\n",
       "      <th></th>\n",
       "      <th></th>\n",
       "      <th></th>\n",
       "      <th></th>\n",
       "      <th></th>\n",
       "      <th></th>\n",
       "      <th></th>\n",
       "      <th></th>\n",
       "    </tr>\n",
       "  </thead>\n",
       "  <tbody>\n",
       "    <tr>\n",
       "      <th>1</th>\n",
       "      <td>0</td>\n",
       "      <td>3</td>\n",
       "      <td>male</td>\n",
       "      <td>22.0</td>\n",
       "      <td>1</td>\n",
       "      <td>0</td>\n",
       "      <td>A/5 21171</td>\n",
       "      <td>7.2500</td>\n",
       "      <td>NaN</td>\n",
       "      <td>S</td>\n",
       "    </tr>\n",
       "    <tr>\n",
       "      <th>2</th>\n",
       "      <td>1</td>\n",
       "      <td>1</td>\n",
       "      <td>female</td>\n",
       "      <td>38.0</td>\n",
       "      <td>1</td>\n",
       "      <td>0</td>\n",
       "      <td>PC 17599</td>\n",
       "      <td>71.2833</td>\n",
       "      <td>C85</td>\n",
       "      <td>C</td>\n",
       "    </tr>\n",
       "    <tr>\n",
       "      <th>3</th>\n",
       "      <td>1</td>\n",
       "      <td>3</td>\n",
       "      <td>female</td>\n",
       "      <td>26.0</td>\n",
       "      <td>0</td>\n",
       "      <td>0</td>\n",
       "      <td>STON/O2. 3101282</td>\n",
       "      <td>7.9250</td>\n",
       "      <td>NaN</td>\n",
       "      <td>S</td>\n",
       "    </tr>\n",
       "    <tr>\n",
       "      <th>4</th>\n",
       "      <td>1</td>\n",
       "      <td>1</td>\n",
       "      <td>female</td>\n",
       "      <td>35.0</td>\n",
       "      <td>1</td>\n",
       "      <td>0</td>\n",
       "      <td>113803</td>\n",
       "      <td>53.1000</td>\n",
       "      <td>C123</td>\n",
       "      <td>S</td>\n",
       "    </tr>\n",
       "    <tr>\n",
       "      <th>5</th>\n",
       "      <td>0</td>\n",
       "      <td>3</td>\n",
       "      <td>male</td>\n",
       "      <td>35.0</td>\n",
       "      <td>0</td>\n",
       "      <td>0</td>\n",
       "      <td>373450</td>\n",
       "      <td>8.0500</td>\n",
       "      <td>NaN</td>\n",
       "      <td>S</td>\n",
       "    </tr>\n",
       "  </tbody>\n",
       "</table>\n",
       "</div>"
      ],
      "text/plain": [
       "             Survived  Pclass     Sex   Age  SibSp  Parch            Ticket  \\\n",
       "PassengerId                                                                   \n",
       "1                   0       3    male  22.0      1      0         A/5 21171   \n",
       "2                   1       1  female  38.0      1      0          PC 17599   \n",
       "3                   1       3  female  26.0      0      0  STON/O2. 3101282   \n",
       "4                   1       1  female  35.0      1      0            113803   \n",
       "5                   0       3    male  35.0      0      0            373450   \n",
       "\n",
       "                Fare Cabin Embarked  \n",
       "PassengerId                          \n",
       "1             7.2500   NaN        S  \n",
       "2            71.2833   C85        C  \n",
       "3             7.9250   NaN        S  \n",
       "4            53.1000  C123        S  \n",
       "5             8.0500   NaN        S  "
      ]
     },
     "execution_count": 199,
     "metadata": {},
     "output_type": "execute_result"
    }
   ],
   "source": [
    "# Import required packages and download the dataset\n",
    "import pandas as pd\n",
    "titanic = pd.read_csv('Titanic.csv', index_col='PassengerId')\n",
    "titanic.head()"
   ]
  },
  {
   "cell_type": "code",
   "execution_count": 200,
   "metadata": {},
   "outputs": [],
   "source": [
    "# Drop unneccessary columns\n",
    "titanic = titanic.drop(columns=['Cabin', 'SibSp', 'Parch', 'Ticket'])"
   ]
  },
  {
   "cell_type": "code",
   "execution_count": 201,
   "metadata": {},
   "outputs": [
    {
     "data": {
      "text/plain": [
       "Survived      0\n",
       "Pclass        0\n",
       "Sex           0\n",
       "Age         177\n",
       "Fare          0\n",
       "Embarked      2\n",
       "dtype: int64"
      ]
     },
     "execution_count": 201,
     "metadata": {},
     "output_type": "execute_result"
    }
   ],
   "source": [
    "# Check for missing values\n",
    "titanic.isna().sum()"
   ]
  },
  {
   "cell_type": "markdown",
   "metadata": {},
   "source": [
    "There are 177 missing values in the Age column, and 2 missing values in the Embarked column. <br>\n",
    "Since this is only a small proportion of the dataset, and we don't have enough information to fill in the missing values, we'll drop the rows with missing values."
   ]
  },
  {
   "cell_type": "code",
   "execution_count": 202,
   "metadata": {},
   "outputs": [
    {
     "data": {
      "text/plain": [
       "Survived    0\n",
       "Pclass      0\n",
       "Sex         0\n",
       "Age         0\n",
       "Fare        0\n",
       "Embarked    0\n",
       "dtype: int64"
      ]
     },
     "execution_count": 202,
     "metadata": {},
     "output_type": "execute_result"
    }
   ],
   "source": [
    "# Drop missing values\n",
    "titanic = titanic.dropna()\n",
    "\n",
    "# Check again for missing values\n",
    "titanic.isna().sum()"
   ]
  },
  {
   "cell_type": "code",
   "execution_count": 203,
   "metadata": {},
   "outputs": [
    {
     "data": {
      "text/plain": [
       "Survived      int64\n",
       "Pclass        int64\n",
       "Sex          object\n",
       "Age         float64\n",
       "Fare        float64\n",
       "Embarked     object\n",
       "dtype: object"
      ]
     },
     "execution_count": 203,
     "metadata": {},
     "output_type": "execute_result"
    }
   ],
   "source": [
    "# Check data types look reasonable\n",
    "titanic.dtypes"
   ]
  },
  {
   "cell_type": "markdown",
   "metadata": {},
   "source": [
    "These data types aren't quite right. We want the categorical variables such as Sex and Embarked to have dtype 'category', we want Age to be an integer as that's how it was recorded,\n",
    "and we want Survived to be Boolean because it's effectively a True/False variable depicting whether the passenger survived."
   ]
  },
  {
   "cell_type": "code",
   "execution_count": 204,
   "metadata": {},
   "outputs": [],
   "source": [
    "# Change the data types\n",
    "titanic = titanic.astype({'Survived': 'bool', 'Sex': 'category', 'Age': 'int64', 'Embarked': 'category'}) "
   ]
  },
  {
   "cell_type": "code",
   "execution_count": 205,
   "metadata": {},
   "outputs": [
    {
     "name": "stdout",
     "output_type": "stream",
     "text": [
      "<class 'pandas.core.frame.DataFrame'>\n",
      "Int64Index: 712 entries, 1 to 891\n",
      "Data columns (total 6 columns):\n",
      " #   Column    Non-Null Count  Dtype   \n",
      "---  ------    --------------  -----   \n",
      " 0   Survived  712 non-null    bool    \n",
      " 1   Pclass    712 non-null    int64   \n",
      " 2   Sex       712 non-null    category\n",
      " 3   Age       712 non-null    int64   \n",
      " 4   Fare      712 non-null    float64 \n",
      " 5   Embarked  712 non-null    category\n",
      "dtypes: bool(1), category(2), float64(1), int64(2)\n",
      "memory usage: 24.5 KB\n"
     ]
    }
   ],
   "source": [
    "# Check everything looks reasonable\n",
    "titanic.info()"
   ]
  },
  {
   "cell_type": "markdown",
   "metadata": {},
   "source": [
    "We can see that the data types agree to what we specified, and there are no more missing values."
   ]
  },
  {
   "cell_type": "code",
   "execution_count": 206,
   "metadata": {},
   "outputs": [
    {
     "data": {
      "text/html": [
       "<div>\n",
       "<style scoped>\n",
       "    .dataframe tbody tr th:only-of-type {\n",
       "        vertical-align: middle;\n",
       "    }\n",
       "\n",
       "    .dataframe tbody tr th {\n",
       "        vertical-align: top;\n",
       "    }\n",
       "\n",
       "    .dataframe thead th {\n",
       "        text-align: right;\n",
       "    }\n",
       "</style>\n",
       "<table border=\"1\" class=\"dataframe\">\n",
       "  <thead>\n",
       "    <tr style=\"text-align: right;\">\n",
       "      <th></th>\n",
       "      <th>Pclass</th>\n",
       "      <th>Age</th>\n",
       "      <th>Fare</th>\n",
       "    </tr>\n",
       "  </thead>\n",
       "  <tbody>\n",
       "    <tr>\n",
       "      <th>count</th>\n",
       "      <td>712.000000</td>\n",
       "      <td>712.000000</td>\n",
       "      <td>712.000000</td>\n",
       "    </tr>\n",
       "    <tr>\n",
       "      <th>mean</th>\n",
       "      <td>2.240169</td>\n",
       "      <td>29.622191</td>\n",
       "      <td>34.567251</td>\n",
       "    </tr>\n",
       "    <tr>\n",
       "      <th>std</th>\n",
       "      <td>0.836854</td>\n",
       "      <td>14.502891</td>\n",
       "      <td>52.938648</td>\n",
       "    </tr>\n",
       "    <tr>\n",
       "      <th>min</th>\n",
       "      <td>1.000000</td>\n",
       "      <td>0.000000</td>\n",
       "      <td>0.000000</td>\n",
       "    </tr>\n",
       "    <tr>\n",
       "      <th>25%</th>\n",
       "      <td>1.000000</td>\n",
       "      <td>20.000000</td>\n",
       "      <td>8.050000</td>\n",
       "    </tr>\n",
       "    <tr>\n",
       "      <th>50%</th>\n",
       "      <td>2.000000</td>\n",
       "      <td>28.000000</td>\n",
       "      <td>15.645850</td>\n",
       "    </tr>\n",
       "    <tr>\n",
       "      <th>75%</th>\n",
       "      <td>3.000000</td>\n",
       "      <td>38.000000</td>\n",
       "      <td>33.000000</td>\n",
       "    </tr>\n",
       "    <tr>\n",
       "      <th>max</th>\n",
       "      <td>3.000000</td>\n",
       "      <td>80.000000</td>\n",
       "      <td>512.329200</td>\n",
       "    </tr>\n",
       "  </tbody>\n",
       "</table>\n",
       "</div>"
      ],
      "text/plain": [
       "           Pclass         Age        Fare\n",
       "count  712.000000  712.000000  712.000000\n",
       "mean     2.240169   29.622191   34.567251\n",
       "std      0.836854   14.502891   52.938648\n",
       "min      1.000000    0.000000    0.000000\n",
       "25%      1.000000   20.000000    8.050000\n",
       "50%      2.000000   28.000000   15.645850\n",
       "75%      3.000000   38.000000   33.000000\n",
       "max      3.000000   80.000000  512.329200"
      ]
     },
     "execution_count": 206,
     "metadata": {},
     "output_type": "execute_result"
    }
   ],
   "source": [
    "# Check statistics look reasonable\n",
    "titanic.describe()"
   ]
  },
  {
   "cell_type": "markdown",
   "metadata": {},
   "source": [
    "Most of the above statistics look reasonable and in line with our expectations.<br>\n",
    "Initially it looks a little odd that some passengers have a Fare of 0. However, research shows that a few passengers did get their tickets free, and we can check below that this\n",
    "only affects a small portion of our population."
   ]
  },
  {
   "cell_type": "code",
   "execution_count": 207,
   "metadata": {},
   "outputs": [
    {
     "name": "stdout",
     "output_type": "stream",
     "text": [
      "1.0 %\n"
     ]
    }
   ],
   "source": [
    "# Calculate and print the proportion of passengers with a fare of 0\n",
    "print(round(100*len(titanic[titanic['Fare']==0])/len(titanic),1), \"%\")"
   ]
  },
  {
   "cell_type": "markdown",
   "metadata": {},
   "source": [
    "Finally, let's add in a new column, 'Age Rounded', to help group passengers together for later analysis.<br>\n",
    "This column rounds passengers ages to the nearest 10."
   ]
  },
  {
   "cell_type": "code",
   "execution_count": 208,
   "metadata": {},
   "outputs": [
    {
     "data": {
      "text/html": [
       "<div>\n",
       "<style scoped>\n",
       "    .dataframe tbody tr th:only-of-type {\n",
       "        vertical-align: middle;\n",
       "    }\n",
       "\n",
       "    .dataframe tbody tr th {\n",
       "        vertical-align: top;\n",
       "    }\n",
       "\n",
       "    .dataframe thead th {\n",
       "        text-align: right;\n",
       "    }\n",
       "</style>\n",
       "<table border=\"1\" class=\"dataframe\">\n",
       "  <thead>\n",
       "    <tr style=\"text-align: right;\">\n",
       "      <th></th>\n",
       "      <th>Survived</th>\n",
       "      <th>Pclass</th>\n",
       "      <th>Sex</th>\n",
       "      <th>Age</th>\n",
       "      <th>Fare</th>\n",
       "      <th>Embarked</th>\n",
       "      <th>Age Rounded</th>\n",
       "    </tr>\n",
       "    <tr>\n",
       "      <th>PassengerId</th>\n",
       "      <th></th>\n",
       "      <th></th>\n",
       "      <th></th>\n",
       "      <th></th>\n",
       "      <th></th>\n",
       "      <th></th>\n",
       "      <th></th>\n",
       "    </tr>\n",
       "  </thead>\n",
       "  <tbody>\n",
       "    <tr>\n",
       "      <th>1</th>\n",
       "      <td>False</td>\n",
       "      <td>3</td>\n",
       "      <td>male</td>\n",
       "      <td>22</td>\n",
       "      <td>7.2500</td>\n",
       "      <td>S</td>\n",
       "      <td>20</td>\n",
       "    </tr>\n",
       "    <tr>\n",
       "      <th>2</th>\n",
       "      <td>True</td>\n",
       "      <td>1</td>\n",
       "      <td>female</td>\n",
       "      <td>38</td>\n",
       "      <td>71.2833</td>\n",
       "      <td>C</td>\n",
       "      <td>40</td>\n",
       "    </tr>\n",
       "    <tr>\n",
       "      <th>3</th>\n",
       "      <td>True</td>\n",
       "      <td>3</td>\n",
       "      <td>female</td>\n",
       "      <td>26</td>\n",
       "      <td>7.9250</td>\n",
       "      <td>S</td>\n",
       "      <td>30</td>\n",
       "    </tr>\n",
       "    <tr>\n",
       "      <th>4</th>\n",
       "      <td>True</td>\n",
       "      <td>1</td>\n",
       "      <td>female</td>\n",
       "      <td>35</td>\n",
       "      <td>53.1000</td>\n",
       "      <td>S</td>\n",
       "      <td>40</td>\n",
       "    </tr>\n",
       "    <tr>\n",
       "      <th>5</th>\n",
       "      <td>False</td>\n",
       "      <td>3</td>\n",
       "      <td>male</td>\n",
       "      <td>35</td>\n",
       "      <td>8.0500</td>\n",
       "      <td>S</td>\n",
       "      <td>40</td>\n",
       "    </tr>\n",
       "  </tbody>\n",
       "</table>\n",
       "</div>"
      ],
      "text/plain": [
       "             Survived  Pclass     Sex  Age     Fare Embarked  Age Rounded\n",
       "PassengerId                                                              \n",
       "1               False       3    male   22   7.2500        S           20\n",
       "2                True       1  female   38  71.2833        C           40\n",
       "3                True       3  female   26   7.9250        S           30\n",
       "4                True       1  female   35  53.1000        S           40\n",
       "5               False       3    male   35   8.0500        S           40"
      ]
     },
     "execution_count": 208,
     "metadata": {},
     "output_type": "execute_result"
    }
   ],
   "source": [
    "# Create new column and define the data type\n",
    "titanic['Age Rounded'] = round(titanic['Age']/10)*10\n",
    "titanic['Age Rounded'] = titanic['Age Rounded'].astype('int')\n",
    "titanic.head()"
   ]
  },
  {
   "cell_type": "markdown",
   "metadata": {},
   "source": [
    "## Exploratory Data Analysis"
   ]
  },
  {
   "cell_type": "code",
   "execution_count": 209,
   "metadata": {},
   "outputs": [],
   "source": [
    "# Import the required visualisation packages\n",
    "import matplotlib.pyplot as plt\n",
    "import seaborn as sns"
   ]
  },
  {
   "cell_type": "markdown",
   "metadata": {},
   "source": [
    "#### One variable plots"
   ]
  },
  {
   "cell_type": "markdown",
   "metadata": {},
   "source": [
    "Let's visualise the distribution of each variable to see what insights we can attain."
   ]
  },
  {
   "cell_type": "code",
   "execution_count": 231,
   "metadata": {},
   "outputs": [
    {
     "data": {
      "image/png": "[encoded data removed]",
      "text/plain": [
       "<Figure size 1080x576 with 6 Axes>"
      ]
     },
     "metadata": {},
     "output_type": "display_data"
    }
   ],
   "source": [
    "# Generate distribution plots for each variable (countplots for discrete variables; histograms for continuous variables)\n",
    "\n",
    "# Set up the visualisation environment\n",
    "sns.set_style('ticks')\n",
    "fig, axs = plt.subplots(nrows=2, ncols=3, figsize=(15,8))\n",
    "sns.despine()\n",
    "\n",
    "# Generate the plots\n",
    "g1 = sns.countplot(data=titanic, x='Survived', palette='Blues', ax=axs[0,0])\n",
    "g2 = sns.countplot(data=titanic, x='Pclass', palette='OrRd', ax=axs[0,1]) \n",
    "g3 = sns.countplot(data=titanic, x='Sex', palette='Purples', ax=axs[0,2])\n",
    "g4 = sns.histplot(titanic['Age'], bins= [0,10,20,30,40,50,60,70,80], color='plum', ax=axs[1,0]) \n",
    "g5 = sns.histplot(titanic['Fare'], bins=[0,50,100,150,200,250,300,350,400,450,500,550], color='khaki', ax=axs[1,1]) \n",
    "g6 = sns.countplot(data=titanic, x='Embarked', palette='Greens', order=['S', 'C', 'Q'], ax=axs[1,2])\n",
    "\n",
    "# Set titles for each plot\n",
    "g1.set_title('Count of Passengers by Survival', fontweight='bold', fontsize=14)\n",
    "g2.set_title('Count of Passengers by Class', fontweight='bold', fontsize=14)\n",
    "g3.set_title('Count of Passengers by Sex', fontweight='bold', fontsize=14)\n",
    "g4.set_title('Count of Passengers by Age', fontweight='bold', fontsize=14)\n",
    "g5.set_title('Count of Passengers by Ticket Fare', fontweight='bold', fontsize=14)\n",
    "g6.set_title('Count of Passengers by Port of Embarkation', fontweight='bold', fontsize=14)\n",
    "\n",
    "# Set labels for the x-axis and y-axis\n",
    "for i in [g1, g2, g3, g6]:\n",
    "    i.set(xlabel='', ylabel='Count')\n",
    "g4.set(xlabel='Age', ylabel='Count')\n",
    "g5.set(xlabel='Fare', ylabel='Count')\n",
    "\n",
    "# Set tick labels\n",
    "g1.set_xticklabels(['Died', 'Survived'])\n",
    "g2.set_xticklabels(['First Class', 'Second Class', 'Third Class'])\n",
    "g3.set_xticklabels(['Female', 'Male'])\n",
    "g6.set_xticklabels(['Southampton', 'Cherbourg', 'Queenstown'])\n",
    "\n",
    "# Display the plots\n",
    "plt.tight_layout()\n",
    "plt.show()"
   ]
  },
  {
   "cell_type": "markdown",
   "metadata": {},
   "source": [
    "**Conclusions:**\n",
    "- More than half of the passengers sampled died as a result of the disaster.\n",
    "- Most passengers were in 3rd class. This seems reasonable given the distribution of wealth at the time.\n",
    "- About two thirds of the passengers were male. This is perhaps because men were more financially independent than women in those times, so were more able to purchase a ticket for themselves, whereas women may have had to rely on travelling with their husband.\n",
    "- Most passengers were relatively young, with the largest age bracket being those in their 20s.\n",
    "- The fare ranged quite wildly, but most tickets were less than £50.\n",
    "- The majority embarked at Southampton (England), some embarked at Cherbourg (France), and very few embarked at Queenstown (Ireland)."
   ]
  },
  {
   "cell_type": "markdown",
   "metadata": {},
   "source": [
    "#### Two variable plots"
   ]
  },
  {
   "cell_type": "markdown",
   "metadata": {},
   "source": [
    "Now let's visualise the impact of the other variables on survival rate using a two-variable bar plot.<br>\n",
    "We know from historical records that women and children from the first and second classes were given priority to board the lifeboats, so we would expect these demographics to have a higher chance of survival."
   ]
  },
  {
   "cell_type": "code",
   "execution_count": 230,
   "metadata": {},
   "outputs": [
    {
     "data": {
      "image/png": "[encoded data removed]",
      "text/plain": [
       "<Figure size 864x576 with 4 Axes>"
      ]
     },
     "metadata": {},
     "output_type": "display_data"
    }
   ],
   "source": [
    "# Generate bar plots of survival rate against the other variables\n",
    "\n",
    "# Set up the visualisation environment\n",
    "fig, axs = plt.subplots(nrows=2, ncols=2, figsize=(12,8))\n",
    "sns.despine()\n",
    "\n",
    "# Generate the plots\n",
    "g1 = sns.barplot(data=titanic, x='Pclass', y='Survived', palette='OrRd', ax=axs[0,0]) \n",
    "g2 = sns.barplot(data=titanic, x='Sex', y='Survived', palette='Purples', ax=axs[0,1]) \n",
    "g3 = sns.barplot(data=titanic, x='Age Rounded', y='Survived', color='plum', ax=axs[1,0]) \n",
    "g4 = sns.barplot(data=titanic, x='Embarked', y='Survived', palette='Greens', order=['S','C','Q'], ax=axs[1,1]) \n",
    "\n",
    "# Set titles for each plot\n",
    "g1.set_title('Survival Rate by Class', fontweight='bold', fontsize=14)\n",
    "g2.set_title('Survival Rate by Sex', fontweight='bold', fontsize=14)\n",
    "g3.set_title('Survival Rate by Age', fontweight='bold', fontsize=14)\n",
    "g4.set_title('Survival Rate by Port of Embarkation', fontweight='bold', fontsize=14)\n",
    "\n",
    "# Set labels for the x-axis and y-axis\n",
    "for i in [g1, g2, g4]:\n",
    "    i.set(xlabel='', ylabel='Survival Rate')\n",
    "g3.set(xlabel='Age (Rounded)', ylabel='Survival Rate')\n",
    "\n",
    "# Set tick labels\n",
    "g1.set_xticklabels(['First Class', 'Second Class', 'Third Class'])\n",
    "g2.set_xticklabels(['Female', 'Male'])\n",
    "g4.set_xticklabels(['Southampton', 'Cherbourg', 'Queenstown'])\n",
    "\n",
    "# Display the plots\n",
    "plt.tight_layout()\n",
    "plt.show()"
   ]
  },
  {
   "cell_type": "markdown",
   "metadata": {},
   "source": [
    "**Conclusions:**\n",
    "- As expected, passenger class appears to be correlated to survival rate, with passengers from higher classes apparently more likely to survive. Moreover the 95% confidence intervals (displayed as vertical lines on the graph) do not overlap, which suggests that the difference in mean survival rate between passenger classes is statistically significant.\n",
    "- Gender also appears to be correlated to survival rate, with women apparently much more likely to survive than men. Again this is in line with our expectations, and we can infer statistical significance from the disjoint positioning of the confidence intervals.\n",
    "- Age does not have such a clear correlation with survival rate, although infants do seem to have a higher chance of survival, which is in line with the prioritisation of women and children first. At first glance it also looks as though the elderly have a much higher survival rate, but this figure may not be representative as there was only one passenger in the '80' age bracket.\n",
    "- Surprisingly, port of embarkation also appears to be correlated with survival rate. It doesn't make sense that where a passenger boarded should affect their chance of survival, so let's dig a little deeper and see if there could be a third variable linking both embarkation port and chance of survival. "
   ]
  },
  {
   "cell_type": "markdown",
   "metadata": {},
   "source": [
    "#### Further analysis of survival rate by port of embarkation"
   ]
  },
  {
   "cell_type": "code",
   "execution_count": 227,
   "metadata": {},
   "outputs": [
    {
     "name": "stdout",
     "output_type": "stream",
     "text": [
      "Passengers who embarked at  Southampton \n",
      "Proportion that were female:  0.34 \n",
      "Average passenger class:  2.33 \n",
      "\n",
      "Passengers who embarked at  Cherbourg \n",
      "Proportion that were female:  0.47 \n",
      "Average passenger class:  1.75 \n",
      "\n",
      "Passengers who embarked at  Queenstown \n",
      "Proportion that were female:  0.43 \n",
      "Average passenger class:  2.79 \n",
      "\n"
     ]
    }
   ],
   "source": [
    "# Create subsets of the titanic dataset corresponding to where the passengers embarked\n",
    "Southampton = titanic[titanic['Embarked']=='S']\n",
    "Cherbourg = titanic[titanic['Embarked']=='C']\n",
    "Queenstown = titanic[titanic['Embarked']=='Q']\n",
    "\n",
    "# Print the proportion of female passengers and the average passenger class for each port\n",
    "for key, value in {'Southampton':Southampton, 'Cherbourg':Cherbourg, 'Queenstown':Queenstown}.items():\n",
    "    print(\"Passengers who embarked at \", key,\n",
    "    \"\\nProportion that were female: \", round((value['Sex']=='female').sum() / len(value),2),\n",
    "    \"\\nAverage passenger class: \", round(value['Pclass'].mean(),2),\"\\n\")"
   ]
  },
  {
   "cell_type": "code",
   "execution_count": 236,
   "metadata": {},
   "outputs": [
    {
     "data": {
      "image/png": "[encoded data removed]",
      "text/plain": [
       "<Figure size 1224x360 with 3 Axes>"
      ]
     },
     "metadata": {},
     "output_type": "display_data"
    }
   ],
   "source": [
    "# Generate count plots of sex and passenger class by port\n",
    "\n",
    "# Set up the visualisation environment\n",
    "fig, axs = plt.subplots(nrows=1, ncols=3, figsize=(17,5))\n",
    "sns.despine()\n",
    "\n",
    "# Generate the plots\n",
    "g1 = sns.countplot(data=titanic, x='Embarked', hue='Age Rounded', color='orchid', order=['S','C','Q'], ax=axs[0]) \n",
    "g2 = sns.countplot(data=titanic, x='Embarked', hue='Sex', palette='Purples', order=['S','C','Q'], ax=axs[1]) \n",
    "g3 = sns.countplot(data=titanic, x='Embarked', hue='Pclass', palette='OrRd', order=['S','C','Q'], ax=axs[2]) \n",
    "\n",
    "# Set titles for each plot\n",
    "g1.set_title('Count of Passengers by Age and Port', fontweight='bold', fontsize=14)\n",
    "g2.set_title('Count of Passengers by Sex and Port', fontweight='bold', fontsize=14)\n",
    "g3.set_title('Count of Passengers by Class and Port', fontweight='bold', fontsize=14)\n",
    "\n",
    "# Set labels for the x-axis and y-axis\n",
    "for i in [g1, g2, g3]:\n",
    "    i.set(xlabel='', ylabel='Count')\n",
    "    i.set_xticklabels(['Southampton', 'Cherbourg', 'Queenstown'])\n",
    "\n",
    "# Set legends\n",
    "g1.legend(title='Age (Rounded)', loc='upper right')\n",
    "g2.legend(title='Sex', loc='upper right', labels=['Female', 'Male'])\n",
    "g3.legend(title='Class', loc='upper right', labels=['First','Second','Third'])\n",
    "\n",
    "# Display the plots\n",
    "plt.tight_layout()\n",
    "plt.show()"
   ]
  },
  {
   "cell_type": "markdown",
   "metadata": {},
   "source": [
    "From the data and the visualisations above, we can draw the following conclusions.\n",
    "- The distribution of age of passengers is fairly consistent across the embarkation ports.\n",
    "- The proportion of women is also fairly similar between Cherbourg and Queenstown, although there were fewer women on average embarking at Southampton, which may have lowered the survival rate for those embarking at Southampton.\n",
    "- It is passenger class which appears to be the key variable here. It is much lower on average for Queenstown (averaging 2.8), whereas much higher for Cherbourg (averaging 1.7). This suggests that the apparent link between embarkation port and survival rate may actually be a link by association with a third variable, passenger class."
   ]
  },
  {
   "cell_type": "markdown",
   "metadata": {},
   "source": [
    "#### Hypothesis testing"
   ]
  },
  {
   "cell_type": "markdown",
   "metadata": {},
   "source": [
    "We saw earlier from the confidence intervals on the bar plots that the mean survival rate appears to differ with statistical significance depending on sex and passenger class.<br>\n",
    "Now let's use hypothesis testing to conclude just how significant this difference is. We'll start by looking at sex.<br>\n",
    "\n",
    "In hypothesis testing, we typically have two hypotheses: the *null hypothesis* and the *alternative hypothesis*.<br>\n",
    "The null hypothesis states that there is no difference between the two groups that we are evaluating. So in this case the null hypothesis is that the survival rate is the same for men and women, and any apparent variance is down to chance. The alternative hypothesis states that there is a difference between the groups, i.e. a different survival rate for men and women.<br>\n",
    "\n",
    "We start by assuming the null hypothesis is true, and use the *p-value* as the basis for rejecting this null hypothesis.<br>\n",
    "The p-value is the probability of obtaining results as extreme as these, assuming that our null hypothesis is correct. The smaller the p-value, the more likely we are to favour the alternative hypothesis.<br>\n",
    "If the p-value is smaller than the critical value *alpha* (commonly chosen to be 0.05), we reject the null hypothesis, as this suggests that there is a less than 5% chance that our null hypothesis is correct."
   ]
  },
  {
   "cell_type": "code",
   "execution_count": 214,
   "metadata": {},
   "outputs": [
    {
     "data": {
      "text/plain": [
       "Ttest_indResult(statistic=16.95138209331607, pvalue=2.2428516419834136e-54)"
      ]
     },
     "execution_count": 214,
     "metadata": {},
     "output_type": "execute_result"
    }
   ],
   "source": [
    "# Perfom a hypothesis test evaluating whether the survival rate differs for men and women\n",
    "from scipy import stats\n",
    "women = titanic[titanic['Sex']=='female']['Survived']\n",
    "men = titanic[titanic['Sex']=='male']['Survived']\n",
    "stats.ttest_ind(women, men)"
   ]
  },
  {
   "cell_type": "markdown",
   "metadata": {},
   "source": [
    "The p-value above is incredibly small, at 2.24e-54. This is highly statistically significant, so we can safely reject the null hypothesis that men and women have the same survival rate, and conclude that women had a higher chance of survival than men."
   ]
  },
  {
   "cell_type": "markdown",
   "metadata": {},
   "source": [
    "Now let's perform a similar test but this time looking at passenger class.<br>\n",
    "Hypothesis testing typically compares just two groups, so we will compare each pair of classes individually."
   ]
  },
  {
   "cell_type": "code",
   "execution_count": 215,
   "metadata": {},
   "outputs": [
    {
     "name": "stdout",
     "output_type": "stream",
     "text": [
      "Ttest_indResult(statistic=3.328599229057307, pvalue=0.0009643071074406221)\n",
      "Ttest_indResult(statistic=5.724810584268534, pvalue=1.741869407625977e-08)\n",
      "Ttest_indResult(statistic=10.208107681930317, pvalue=1.7643723928503704e-22)\n"
     ]
    }
   ],
   "source": [
    "# Divide the data by passenger class\n",
    "first_class = titanic[titanic['Pclass']==1]['Survived']\n",
    "second_class = titanic[titanic['Pclass']==2]['Survived']\n",
    "third_class = titanic[titanic['Pclass']==3]['Survived']\n",
    "\n",
    "# Perfom a hypothesis test evaluating whether the survival rate differs for first class and second class passengers\n",
    "result1 = stats.ttest_ind(first_class, second_class)\n",
    "print(result1)\n",
    "\n",
    "# Perfom a hypothesis test evaluating whether the survival rate differs for second class and third class passengers\n",
    "result2 = stats.ttest_ind(second_class, third_class)\n",
    "print(result2)\n",
    "\n",
    "# Perfom a hypothesis test evaluating whether the survival rate differs for first class and third class passengers\n",
    "result2 = stats.ttest_ind(first_class, third_class)\n",
    "print(result2)"
   ]
  },
  {
   "cell_type": "markdown",
   "metadata": {},
   "source": [
    "None of the p-values above are as small as the p-value comparing men to women, which implies that sex had a more significant impact on survival rate than passenger class.<br>\n",
    "However the p-values are still all very small, with the largest one (comparing first and second class) being less than 0.1%, being well below our alpha value of 5%.<br>\n",
    "Therefore we can conclude that all three passenger classes had different survival rates, with the highest survival rate being for first class passengers, followed by second class, and finally third class."
   ]
  },
  {
   "cell_type": "markdown",
   "metadata": {},
   "source": [
    "#### Comparison of survival rates by demographic"
   ]
  },
  {
   "cell_type": "markdown",
   "metadata": {},
   "source": [
    "Finally, let's look at the mean survival rates by demographic and deduce quantitatively how much it differs between the groups."
   ]
  },
  {
   "cell_type": "code",
   "execution_count": 216,
   "metadata": {},
   "outputs": [
    {
     "name": "stdout",
     "output_type": "stream",
     "text": [
      "Sex\n",
      "female    0.752896\n",
      "male      0.205298\n",
      "Name: Survived, dtype: float64\n"
     ]
    }
   ],
   "source": [
    "# Aggregate mean survival rates by sex\n",
    "agg_sex = titanic.groupby('Sex')['Survived'].agg('mean')\n",
    "print(agg_sex)"
   ]
  },
  {
   "cell_type": "markdown",
   "metadata": {},
   "source": [
    "We can see that women had a survival rate of 75%, whereas for men it was only 21%.<br>\n",
    "So women were around 3.6 times more likely to survive than men."
   ]
  },
  {
   "cell_type": "code",
   "execution_count": 217,
   "metadata": {},
   "outputs": [
    {
     "name": "stdout",
     "output_type": "stream",
     "text": [
      "Pclass\n",
      "1    0.652174\n",
      "2    0.479769\n",
      "3    0.239437\n",
      "Name: Survived, dtype: float64\n"
     ]
    }
   ],
   "source": [
    "# Aggregate mean survival rates by passenger class\n",
    "agg_class = titanic.groupby('Pclass')['Survived'].agg('mean')\n",
    "print(agg_class)"
   ]
  },
  {
   "cell_type": "markdown",
   "metadata": {},
   "source": [
    "We can see that first class had a survival rate of 65% on average, compared to 48% for second class passengers and 24% for third class passengers.<br>\n",
    "So first class passengers were 2.7 times more likely to survive than third class passengers."
   ]
  },
  {
   "cell_type": "code",
   "execution_count": 218,
   "metadata": {},
   "outputs": [
    {
     "name": "stdout",
     "output_type": "stream",
     "text": [
      "Sex     Pclass\n",
      "female  1         0.963855\n",
      "        2         0.918919\n",
      "        3         0.460784\n",
      "male    1         0.396040\n",
      "        2         0.151515\n",
      "        3         0.150198\n",
      "Name: Survived, dtype: float64\n"
     ]
    }
   ],
   "source": [
    "# Aggregate mean survival rates by both sex and passenger class\n",
    "agg_sex_class = titanic.groupby(['Sex','Pclass'])['Survived'].agg('mean')\n",
    "print(agg_sex_class)"
   ]
  },
  {
   "cell_type": "markdown",
   "metadata": {},
   "source": [
    "The above table gives more granular survival rates split out by both sex and passenger class.<br>\n",
    "If we compare a first class woman (survival rate of 96%) with a third class man (survival rate of 15%), we can see that the first class woman would be 6.4 times more likely to survive."
   ]
  },
  {
   "cell_type": "markdown",
   "metadata": {},
   "source": [
    "## Conclusion"
   ]
  },
  {
   "cell_type": "markdown",
   "metadata": {},
   "source": [
    "From the analysis above we can draw the following key conclusions:<br>\n",
    "\n",
    "- Most passengers were relatively young, with the largest age bracket being those in their 20s. The survival rate appears to be higher for infants, which corresponds to children being given priority to board the lifeboats, but otherwise remains fairly similar between the rest of the age groups.\n",
    "- There were almost twice as many men as women on board the Titanic. However, we have shown with statistical significance that being male resulted in a much lower chance of survival, at 75% for women versus 21% for men on average.\n",
    "- The most popular passenger class was third class, and this contained about half of the passengers. Third class passengers had a lower chance of survival than both second class and first class passengers; for example, first class passengers were on average 2.7 times more likely to survive than third class passengers. Again, we have shown the difference in these mean survival rates to be statistically significant.\n",
    "- Initially it appeared that the port at which a passenger embarked impacted their survival rate. However further analysis showed that this was likely a result of different demographics amongst passengers at each port\n",
    ". For example, there were far more first class passengers at Cherbourg which increased its survival rate, whereas Southampton had fewer women which lowered its survival rate."
   ]
  }
 ],
 "metadata": {
  "kernelspec": {
   "display_name": "Python 3",
   "language": "python",
   "name": "python3"
  },
  "language_info": {
   "codemirror_mode": {
    "name": "ipython",
    "version": 3
   },
   "file_extension": ".py",
   "mimetype": "text/x-python",
   "name": "python",
   "nbconvert_exporter": "python",
   "pygments_lexer": "ipython3",
   "version": "3.8.5"
  }
 },
 "nbformat": 4,
 "nbformat_minor": 4
}
